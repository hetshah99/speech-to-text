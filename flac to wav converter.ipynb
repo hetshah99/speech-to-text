{
 "cells": [
  {
   "cell_type": "code",
   "execution_count": 4,
   "metadata": {},
   "outputs": [
    {
     "name": "stdout",
     "output_type": "stream",
     "text": [
      "ffmpeg -i C:\\Users\\HETSHAH\\1272-128104-0000.flac 1272-128104-0000.wav\n",
      "ffmpeg -i C:\\Users\\HETSHAH\\1272-128104-0001.flac 1272-128104-0001.wav\n",
      "ffmpeg -i C:\\Users\\HETSHAH\\1272-128104-0002.flac 1272-128104-0002.wav\n",
      "ffmpeg -i C:\\Users\\HETSHAH\\1272-128104-0003.flac 1272-128104-0003.wav\n",
      "ffmpeg -i C:\\Users\\HETSHAH\\1272-128104-0004.flac 1272-128104-0004.wav\n",
      "ffmpeg -i C:\\Users\\HETSHAH\\1272-128104-0005.flac 1272-128104-0005.wav\n",
      "ffmpeg -i C:\\Users\\HETSHAH\\1272-128104-0006.flac 1272-128104-0006.wav\n",
      "ffmpeg -i C:\\Users\\HETSHAH\\1272-128104-0007.flac 1272-128104-0007.wav\n",
      "ffmpeg -i C:\\Users\\HETSHAH\\1272-128104-0008.flac 1272-128104-0008.wav\n",
      "ffmpeg -i C:\\Users\\HETSHAH\\1272-128104-0009.flac 1272-128104-0009.wav\n",
      "ffmpeg -i C:\\Users\\HETSHAH\\1272-128104-0010.flac 1272-128104-0010.wav\n"
     ]
    }
   ],
   "source": [
    "import subprocess\n",
    "\n",
    "list =  [ \"1272-128104-0000\",\n",
    "\"1272-128104-0001\",\n",
    "\"1272-128104-0002\",\n",
    "\"1272-128104-0003\",\n",
    "\"1272-128104-0004\",\n",
    "\"1272-128104-0005\",\n",
    "\"1272-128104-0006\",\n",
    "\"1272-128104-0007\",\n",
    "\"1272-128104-0008\",\n",
    "\"1272-128104-0009\",\n",
    "\"1272-128104-0010\",\n",
    "]\n",
    "\n",
    "for name in list:\n",
    "    \n",
    "    command = \"ffmpeg -i C:\\\\Users\\\\HETSHAH\\\\\" +name + \".flac \" +name +\".wav\"\n",
    "    print(command)\n",
    "    \n",
    "    subprocess.call(command, shell=True)\n",
    "    "
   ]
  },
  {
   "cell_type": "code",
   "execution_count": null,
   "metadata": {},
   "outputs": [],
   "source": []
  }
 ],
 "metadata": {
  "kernelspec": {
   "display_name": "Python 3",
   "language": "python",
   "name": "python3"
  },
  "language_info": {
   "codemirror_mode": {
    "name": "ipython",
    "version": 3
   },
   "file_extension": ".py",
   "mimetype": "text/x-python",
   "name": "python",
   "nbconvert_exporter": "python",
   "pygments_lexer": "ipython3",
   "version": "3.7.6"
  }
 },
 "nbformat": 4,
 "nbformat_minor": 2
}
