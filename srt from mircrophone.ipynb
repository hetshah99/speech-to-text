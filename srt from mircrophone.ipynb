{
 "cells": [
  {
   "cell_type": "code",
   "execution_count": null,
   "metadata": {},
   "outputs": [],
   "source": []
  },
  {
   "cell_type": "code",
   "execution_count": null,
   "metadata": {},
   "outputs": [],
   "source": [
    "import pyaudio\n",
    "import datetime\n",
    "import speech_recognition as sr\n",
    "\n",
    "r=  sr.Recognizer()\n",
    "\n",
    "start_time= datetime.datetime(100,1,1,0,0,7)\n",
    "max_time = datetime.datetime(100,1,1,0,0,10)\n",
    "global count\n",
    "count =0\n",
    "block_number = 1\n",
    "\n",
    "def speech_to_srt(current_time,block):\n",
    "    \n",
    "    if(current_time >= max_time):\n",
    "        return(\"speech recognition ended\")\n",
    "    else:\n",
    "        block+=1\n",
    "        block_str=  str(block)\n",
    "        \n",
    "        with sr.Microphone() as source:\n",
    "            print(\"now recording\")\n",
    "            audio1 = r.record(source)\n",
    "            \n",
    "        \n",
    "        sentence = \" a\"\n",
    "        try:\n",
    "            sentence = r.recogize_google(au)\n",
    "           \n",
    "        except:\n",
    "            print(\"could not recongize\")\n",
    "        print(sentence)\n",
    "        if(sentence ==\"I want to stop now\"):\n",
    "            return \"ended by user\"\n",
    "        else:\n",
    "            time_add= len(sentence.split())\n",
    "            print(time_add)\n",
    "            end_time = current_time + datetime.timedelta(0,time_add)\n",
    "            str_current_time = str(current_time.time())\n",
    "            str_end_time= str(end_time.time())\n",
    "            print(end_time)\n",
    "            \n",
    "            with open(\"speech_to_text.srt\", \"a\") as f:\n",
    "                f.write(block_str)\n",
    "                f.write(\"\\n\")\n",
    "                f.write(str_current_time)\n",
    "                f.write(\"-->\")\n",
    "                f.write(str_end_time)\n",
    "                f.write(\"\\n\")\n",
    "                f.write(sentence)\n",
    "                f.write(\".\")\n",
    "                f.write(\"\\n\")\n",
    "                f.write(\"\\n\")\n",
    "            return speech_to_srt(end_time,block)\n",
    "print(\"start now\")\n",
    "speech_to_srt(start_time,block_number)\n",
    "            \n",
    "\n"
   ]
  },
  {
   "cell_type": "code",
   "execution_count": null,
   "metadata": {},
   "outputs": [],
   "source": []
  },
  {
   "cell_type": "code",
   "execution_count": null,
   "metadata": {},
   "outputs": [],
   "source": []
  }
 ],
 "metadata": {
  "kernelspec": {
   "display_name": "Python 2",
   "language": "python",
   "name": "python2"
  },
  "language_info": {
   "codemirror_mode": {
    "name": "ipython",
    "version": 2
   },
   "file_extension": ".py",
   "mimetype": "text/x-python",
   "name": "python",
   "nbconvert_exporter": "python",
   "pygments_lexer": "ipython2",
   "version": "2.7.14"
  }
 },
 "nbformat": 4,
 "nbformat_minor": 2
}
