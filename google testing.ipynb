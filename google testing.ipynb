{
 "cells": [
  {
   "cell_type": "code",
   "execution_count": 1,
   "metadata": {},
   "outputs": [
    {
     "name": "stdout",
     "output_type": "stream",
     "text": [
      "nothing recived \n",
      "no is my place\n",
      "\n",
      "he tells us that exist\n",
      "\n",
      "does mother of\n",
      "\n",
      "nothing recived \n",
      "is officer are necessary for us. Have Luminous please how to get an expression\n",
      "\n",
      "white\n",
      "\n",
      "finish in fact\n",
      "\n",
      "I think there are two kinds\n",
      "\n",
      "killer men's mousepad has been made between decorator park and\n",
      "\n",
      "your friend I am from India and America board\n",
      "\n"
     ]
    }
   ],
   "source": [
    "import speech_recognition as sr\n",
    "import sys\n",
    "\n",
    "file =open(\"google API1.txt\",\"w+\")\n",
    "r = sr.Recognizer()\n",
    "list =  [ \"1272-128104-0000\",\n",
    "\"1272-128104-0001\",\n",
    "\"1272-128104-0002\",\n",
    "\"1272-128104-0003\",\n",
    "\"1272-128104-0004\",\n",
    "\"1272-128104-0005\",\n",
    "\"1272-128104-0006\",\n",
    "\"1272-128104-0007\",\n",
    "\"1272-128104-0008\",\n",
    "\"1272-128104-0009\",\n",
    "\"1272-128104-0010\",\n",
    "]\n",
    "for each in list:\n",
    "\t\n",
    "\tfilename = each+\".wav\"\n",
    "\twith sr.AudioFile(filename) as source:\n",
    "\t\taudio= r.listen(source)\n",
    "\t\ttry:\n",
    "\t\t\tprint(r.recognize_google(audio) +\"\\n\")\n",
    "\t\t\tfile.write(r.recognize_google(audio) +\"\\n\")\n",
    "\t\t\n",
    "\t\texcept:\n",
    "\t\t\tprint(\"nothing recived \")"
   ]
  },
  {
   "cell_type": "code",
   "execution_count": null,
   "metadata": {},
   "outputs": [],
   "source": []
  }
 ],
 "metadata": {
  "kernelspec": {
   "display_name": "Python 3",
   "language": "python",
   "name": "python3"
  },
  "language_info": {
   "codemirror_mode": {
    "name": "ipython",
    "version": 3
   },
   "file_extension": ".py",
   "mimetype": "text/x-python",
   "name": "python",
   "nbconvert_exporter": "python",
   "pygments_lexer": "ipython3",
   "version": "3.7.6"
  }
 },
 "nbformat": 4,
 "nbformat_minor": 2
}
